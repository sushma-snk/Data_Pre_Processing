{
  "nbformat": 4,
  "nbformat_minor": 0,
  "metadata": {
    "colab": {
      "provenance": [],
      "authorship_tag": "ABX9TyMQ1lkinidYQQsjjyAZTUlp",
      "include_colab_link": true
    },
    "kernelspec": {
      "name": "python3",
      "display_name": "Python 3"
    },
    "language_info": {
      "name": "python"
    }
  },
  "cells": [
    {
      "cell_type": "markdown",
      "metadata": {
        "id": "view-in-github",
        "colab_type": "text"
      },
      "source": [
        "<a href=\"https://colab.research.google.com/github/sushma-snk/Data_Pre_Processing/blob/main/DataPreprocessing.ipynb\" target=\"_parent\"><img src=\"https://colab.research.google.com/assets/colab-badge.svg\" alt=\"Open In Colab\"/></a>"
      ]
    },
    {
      "cell_type": "markdown",
      "source": [
        "# **Data Pre-processing**"
      ],
      "metadata": {
        "id": "xNTTG9pkZZ96"
      }
    },
    {
      "cell_type": "code",
      "execution_count": null,
      "metadata": {
        "colab": {
          "base_uri": "https://localhost:8080/"
        },
        "id": "zAxOStkdUDPu",
        "outputId": "31eab47f-fbf5-4c16-9f14-f2c29839484a"
      },
      "outputs": [
        {
          "output_type": "stream",
          "name": "stdout",
          "text": [
            "Cloning into 'DS_PT_2'...\n",
            "remote: Enumerating objects: 75, done.\u001b[K\n",
            "remote: Counting objects: 100% (75/75), done.\u001b[K\n",
            "remote: Compressing objects: 100% (62/62), done.\u001b[K\n",
            "remote: Total 75 (delta 31), reused 55 (delta 11), pack-reused 0\u001b[K\n",
            "Unpacking objects: 100% (75/75), 2.48 MiB | 6.47 MiB/s, done.\n"
          ]
        }
      ],
      "source": [
        "# Clone dataset from github repository\n",
        "!git clone https://github.com/VedaVinothiniShastra/DS_PT_2.git"
      ]
    },
    {
      "cell_type": "code",
      "source": [
        "!ls"
      ],
      "metadata": {
        "colab": {
          "base_uri": "https://localhost:8080/"
        },
        "id": "-4v_CWjgUWBS",
        "outputId": "063c797e-1b26-49d4-d7e4-a80fdf3edaed"
      },
      "execution_count": null,
      "outputs": [
        {
          "output_type": "stream",
          "name": "stdout",
          "text": [
            "DS_PT_2  sample_data\n"
          ]
        }
      ]
    },
    {
      "cell_type": "code",
      "source": [
        "# import required libraries\n",
        "import pandas as pd\n",
        "import numpy as np"
      ],
      "metadata": {
        "id": "B6p222z6ya3V"
      },
      "execution_count": null,
      "outputs": []
    },
    {
      "cell_type": "markdown",
      "source": [
        "Preprocessing Steps\n",
        "\n",
        "1. Read the .csv file using pandas\n",
        "2. Get column adj close in each file\n",
        "3. Check for null value , if so drop\n",
        "4. Sum the each stack company and store as 3 columns\n",
        "5. Find Mean, Median and std\n",
        "6. Plot the data in matplotlib"
      ],
      "metadata": {
        "id": "w7S8bA18Zm8H"
      }
    },
    {
      "cell_type": "code",
      "source": [
        "def pre_processing(file_name):\n",
        "  print(\"_____________________________________________________________________\")\n",
        "  print(\"Step 1. Read csv file\")\n",
        "  data = pd.read_csv(file_name)\n",
        "  print(data.head())\n",
        "  print(data.shape)\n",
        "  print('_____________________________________________________________________')\n",
        "  print(\"Step 2. Check number of missing data in every column of the dataset\")\n",
        "  print(data.isna().sum())\n",
        "  print('_____________________________________________________________________')\n",
        "  print(\"None of the columns have missing data\")\n",
        "  print('_____________________________________________________________________')\n",
        "  print(\"Step3. Extract 'adj close' column from every dataset/\")\n",
        "  print('_____________________________________________________________________')\n",
        "  AdjClose_data = data[\"Adj Close\"]\n",
        "  print(AdjClose_data)\n",
        "  print('_____________________________________________________________________')\n",
        "  return AdjClose_data"
      ],
      "metadata": {
        "id": "-6amQQtsyh5x"
      },
      "execution_count": null,
      "outputs": []
    },
    {
      "cell_type": "code",
      "source": [
        "apple_data = pre_processing(\"DS_PT_2/Mini/Mini-1/AAPL.csv\")\n",
        "amazon_data = pre_processing(\"DS_PT_2/Mini/Mini-1/AMZN.csv\")\n",
        "google_data = pre_processing(\"DS_PT_2/Mini/Mini-1/GOOG.csv\")"
      ],
      "metadata": {
        "colab": {
          "base_uri": "https://localhost:8080/"
        },
        "id": "eBZ0MRDM1uGP",
        "outputId": "144030ac-d4a0-447d-ea25-0f85439508b2"
      },
      "execution_count": null,
      "outputs": [
        {
          "output_type": "stream",
          "name": "stdout",
          "text": [
            "_____________________________________________________________________\n",
            "Step 1. Read csv file\n",
            "         Date      Open      High       Low     Close  Adj Close     Volume\n",
            "0  2000-01-03  3.745536  4.017857  3.631696  3.997768   3.596616  133949200\n",
            "1  2000-01-04  3.866071  3.950893  3.613839  3.660714   3.293384  128094400\n",
            "2  2000-01-05  3.705357  3.948661  3.678571  3.714286   3.341579  194580400\n",
            "3  2000-01-06  3.790179  3.821429  3.392857  3.392857   3.052405  191993200\n",
            "4  2000-01-07  3.446429  3.607143  3.410714  3.553571   3.196992  115183600\n",
            "(4475, 7)\n",
            "_____________________________________________________________________\n",
            "Step 2. Check number of missing data in every column of the dataset\n",
            "Date         0\n",
            "Open         0\n",
            "High         0\n",
            "Low          0\n",
            "Close        0\n",
            "Adj Close    0\n",
            "Volume       0\n",
            "dtype: int64\n",
            "_____________________________________________________________________\n",
            "None of the columns have missing data\n",
            "_____________________________________________________________________\n",
            "Step3. Extract 'adj close' column from every dataset/\n",
            "_____________________________________________________________________\n",
            "0         3.596616\n",
            "1         3.293384\n",
            "2         3.341579\n",
            "3         3.052405\n",
            "4         3.196992\n",
            "           ...    \n",
            "4470    155.839996\n",
            "4471    155.899994\n",
            "4472    156.550003\n",
            "4473    156.000000\n",
            "4474    156.990005\n",
            "Name: Adj Close, Length: 4475, dtype: float64\n",
            "_____________________________________________________________________\n",
            "_____________________________________________________________________\n",
            "Step 1. Read csv file\n",
            "         Date     Open     High        Low    Close  Adj Close    Volume\n",
            "0  2000-01-03  81.5000  89.5625  79.046799  89.3750    89.3750  16117600\n",
            "1  2000-01-04  85.3750  91.5000  81.750000  81.9375    81.9375  17487400\n",
            "2  2000-01-05  70.5000  75.1250  68.000000  69.7500    69.7500  38457400\n",
            "3  2000-01-06  71.3125  72.6875  64.000000  65.5625    65.5625  18752000\n",
            "4  2000-01-07  67.0000  70.5000  66.187500  69.5625    69.5625  10505400\n",
            "(4475, 7)\n",
            "_____________________________________________________________________\n",
            "Step 2. Check number of missing data in every column of the dataset\n",
            "Date         0\n",
            "Open         0\n",
            "High         0\n",
            "Low          0\n",
            "Close        0\n",
            "Adj Close    0\n",
            "Volume       0\n",
            "dtype: int64\n",
            "_____________________________________________________________________\n",
            "None of the columns have missing data\n",
            "_____________________________________________________________________\n",
            "Step3. Extract 'adj close' column from every dataset/\n",
            "_____________________________________________________________________\n",
            "0         89.375000\n",
            "1         81.937500\n",
            "2         69.750000\n",
            "3         65.562500\n",
            "4         69.562500\n",
            "           ...     \n",
            "4470     990.989990\n",
            "4471     987.200012\n",
            "4472     995.000000\n",
            "4473    1000.929993\n",
            "4474    1002.940002\n",
            "Name: Adj Close, Length: 4475, dtype: float64\n",
            "_____________________________________________________________________\n",
            "_____________________________________________________________________\n",
            "Step 1. Read csv file\n",
            "         Date       Open       High        Low      Close  Adj Close    Volume\n",
            "0  2004-08-19  49.676899  51.693783  47.669952  49.845802  49.845802  44994500\n",
            "1  2004-08-20  50.178635  54.187561  49.925285  53.805050  53.805050  23005800\n",
            "2  2004-08-23  55.017166  56.373344  54.172661  54.346527  54.346527  18393200\n",
            "3  2004-08-24  55.260582  55.439419  51.450363  52.096165  52.096165  15361800\n",
            "4  2004-08-25  52.140873  53.651051  51.604362  52.657513  52.657513   9257400\n",
            "(3313, 7)\n",
            "_____________________________________________________________________\n",
            "Step 2. Check number of missing data in every column of the dataset\n",
            "Date         0\n",
            "Open         0\n",
            "High         0\n",
            "Low          0\n",
            "Close        0\n",
            "Adj Close    0\n",
            "Volume       0\n",
            "dtype: int64\n",
            "_____________________________________________________________________\n",
            "None of the columns have missing data\n",
            "_____________________________________________________________________\n",
            "Step3. Extract 'adj close' column from every dataset/\n",
            "_____________________________________________________________________\n",
            "0        49.845802\n",
            "1        53.805050\n",
            "2        54.346527\n",
            "3        52.096165\n",
            "4        52.657513\n",
            "           ...    \n",
            "3308    977.000000\n",
            "3309    972.599976\n",
            "3310    989.250000\n",
            "3311    987.830017\n",
            "3312    989.679993\n",
            "Name: Adj Close, Length: 3313, dtype: float64\n",
            "_____________________________________________________________________\n"
          ]
        }
      ]
    },
    {
      "cell_type": "code",
      "source": [
        "print(\"Step 4. Concatenate adj close data from all three datasets\")\n",
        "print(\"_______________________________________________________________________\")\n",
        "AdjClose_data = pd.concat([apple_data, amazon_data, google_data], axis = 1)\n",
        "print(AdjClose_data)"
      ],
      "metadata": {
        "colab": {
          "base_uri": "https://localhost:8080/"
        },
        "id": "HXBJna6S2Fet",
        "outputId": "9a07e748-c7bc-4946-c2f3-77c6be9a183a"
      },
      "execution_count": null,
      "outputs": [
        {
          "output_type": "stream",
          "name": "stdout",
          "text": [
            "Step 4. Concatenate adj close data from all three datasets\n",
            "_______________________________________________________________________\n",
            "       Adj Close    Adj Close  Adj Close\n",
            "0       3.596616    89.375000  49.845802\n",
            "1       3.293384    81.937500  53.805050\n",
            "2       3.341579    69.750000  54.346527\n",
            "3       3.052405    65.562500  52.096165\n",
            "4       3.196992    69.562500  52.657513\n",
            "...          ...          ...        ...\n",
            "4470  155.839996   990.989990        NaN\n",
            "4471  155.899994   987.200012        NaN\n",
            "4472  156.550003   995.000000        NaN\n",
            "4473  156.000000  1000.929993        NaN\n",
            "4474  156.990005  1002.940002        NaN\n",
            "\n",
            "[4475 rows x 3 columns]\n"
          ]
        }
      ]
    },
    {
      "cell_type": "code",
      "source": [
        "# Renaming column names as all three columns have same names\n",
        "col = list(AdjClose_data.columns)\n",
        "col[0] = 'Apple Adj Close'\n",
        "col[1] = 'Amazon Adj Close'\n",
        "col[2] = 'Google Adj Close'\n",
        "AdjClose_data.columns = col\n",
        "print(AdjClose_data)"
      ],
      "metadata": {
        "colab": {
          "base_uri": "https://localhost:8080/"
        },
        "id": "gP59HhrH43-N",
        "outputId": "ee471a01-313e-4266-c4b6-f6f0438db7d2"
      },
      "execution_count": null,
      "outputs": [
        {
          "output_type": "stream",
          "name": "stdout",
          "text": [
            "      Apple Adj Close  Amazon Adj Close  Google Adj Close\n",
            "0            3.596616         89.375000         49.845802\n",
            "1            3.293384         81.937500         53.805050\n",
            "2            3.341579         69.750000         54.346527\n",
            "3            3.052405         65.562500         52.096165\n",
            "4            3.196992         69.562500         52.657513\n",
            "...               ...               ...               ...\n",
            "4470       155.839996        990.989990               NaN\n",
            "4471       155.899994        987.200012               NaN\n",
            "4472       156.550003        995.000000               NaN\n",
            "4473       156.000000       1000.929993               NaN\n",
            "4474       156.990005       1002.940002               NaN\n",
            "\n",
            "[4475 rows x 3 columns]\n"
          ]
        }
      ]
    },
    {
      "cell_type": "code",
      "source": [
        "# Replacing null values with zeros as the google data has lesser rows when compared to amazon and apple\n",
        "processed_data = AdjClose_data.fillna(0)\n",
        "print(processed_data)"
      ],
      "metadata": {
        "colab": {
          "base_uri": "https://localhost:8080/"
        },
        "id": "BuQ6Ndsy8UWs",
        "outputId": "9e648b2f-0f1f-48aa-e838-a4677db25daa"
      },
      "execution_count": null,
      "outputs": [
        {
          "output_type": "stream",
          "name": "stdout",
          "text": [
            "      Apple Adj Close  Amazon Adj Close  Google Adj Close\n",
            "0            3.596616         89.375000         49.845802\n",
            "1            3.293384         81.937500         53.805050\n",
            "2            3.341579         69.750000         54.346527\n",
            "3            3.052405         65.562500         52.096165\n",
            "4            3.196992         69.562500         52.657513\n",
            "...               ...               ...               ...\n",
            "4470       155.839996        990.989990          0.000000\n",
            "4471       155.899994        987.200012          0.000000\n",
            "4472       156.550003        995.000000          0.000000\n",
            "4473       156.000000       1000.929993          0.000000\n",
            "4474       156.990005       1002.940002          0.000000\n",
            "\n",
            "[4475 rows x 3 columns]\n"
          ]
        }
      ]
    },
    {
      "cell_type": "code",
      "source": [
        "print(\"Step 5. Finding mean, median and std\")\n",
        "print(\"_______________________________________________________________________\")\n",
        "# Mean and std is found out using describe function\n",
        "stats = processed_data.describe().loc[['mean','std']]\n",
        "print(stats)"
      ],
      "metadata": {
        "colab": {
          "base_uri": "https://localhost:8080/"
        },
        "id": "7HTnzUjd9Mu3",
        "outputId": "3be1706f-00da-4133-f55b-21c739c476ac"
      },
      "execution_count": null,
      "outputs": [
        {
          "output_type": "stream",
          "name": "stdout",
          "text": [
            "Step 5. Finding mean, median and std\n",
            "_______________________________________________________________________\n",
            "      Apple Adj Close  Amazon Adj Close  Google Adj Close\n",
            "mean        40.069959        199.754344        281.381018\n",
            "std         43.478843        242.728656        254.699380\n"
          ]
        }
      ]
    },
    {
      "cell_type": "code",
      "source": [
        "# Finding median\n",
        "med = processed_data.median()\n",
        "med.name = 'median'\n",
        "print(med)"
      ],
      "metadata": {
        "colab": {
          "base_uri": "https://localhost:8080/"
        },
        "id": "dY5vmrzb_xhX",
        "outputId": "66cac572-17d9-4be2-fc89-2f832d2dd44d"
      },
      "execution_count": null,
      "outputs": [
        {
          "output_type": "stream",
          "name": "stdout",
          "text": [
            "Apple Adj Close      20.428621\n",
            "Amazon Adj Close     80.239998\n",
            "Google Adj Close    243.446609\n",
            "Name: median, dtype: float64\n"
          ]
        }
      ]
    },
    {
      "cell_type": "code",
      "source": [
        "# Appending median to stats dataframe\n",
        "stats.append(med)"
      ],
      "metadata": {
        "colab": {
          "base_uri": "https://localhost:8080/",
          "height": 143
        },
        "id": "Stx2Nc-4UuDj",
        "outputId": "daa65807-9f9d-45de-91e4-5ae07edeed83"
      },
      "execution_count": null,
      "outputs": [
        {
          "output_type": "execute_result",
          "data": {
            "text/plain": [
              "        Apple Adj Close  Amazon Adj Close  Google Adj Close\n",
              "mean          40.069959        199.754344        281.381018\n",
              "std           43.478843        242.728656        254.699380\n",
              "median        20.428621         80.239998        243.446609"
            ],
            "text/html": [
              "\n",
              "  <div id=\"df-af06a37c-8d61-4e2a-97b3-c44fda00e00f\">\n",
              "    <div class=\"colab-df-container\">\n",
              "      <div>\n",
              "<style scoped>\n",
              "    .dataframe tbody tr th:only-of-type {\n",
              "        vertical-align: middle;\n",
              "    }\n",
              "\n",
              "    .dataframe tbody tr th {\n",
              "        vertical-align: top;\n",
              "    }\n",
              "\n",
              "    .dataframe thead th {\n",
              "        text-align: right;\n",
              "    }\n",
              "</style>\n",
              "<table border=\"1\" class=\"dataframe\">\n",
              "  <thead>\n",
              "    <tr style=\"text-align: right;\">\n",
              "      <th></th>\n",
              "      <th>Apple Adj Close</th>\n",
              "      <th>Amazon Adj Close</th>\n",
              "      <th>Google Adj Close</th>\n",
              "    </tr>\n",
              "  </thead>\n",
              "  <tbody>\n",
              "    <tr>\n",
              "      <th>mean</th>\n",
              "      <td>40.069959</td>\n",
              "      <td>199.754344</td>\n",
              "      <td>281.381018</td>\n",
              "    </tr>\n",
              "    <tr>\n",
              "      <th>std</th>\n",
              "      <td>43.478843</td>\n",
              "      <td>242.728656</td>\n",
              "      <td>254.699380</td>\n",
              "    </tr>\n",
              "    <tr>\n",
              "      <th>median</th>\n",
              "      <td>20.428621</td>\n",
              "      <td>80.239998</td>\n",
              "      <td>243.446609</td>\n",
              "    </tr>\n",
              "  </tbody>\n",
              "</table>\n",
              "</div>\n",
              "      <button class=\"colab-df-convert\" onclick=\"convertToInteractive('df-af06a37c-8d61-4e2a-97b3-c44fda00e00f')\"\n",
              "              title=\"Convert this dataframe to an interactive table.\"\n",
              "              style=\"display:none;\">\n",
              "        \n",
              "  <svg xmlns=\"http://www.w3.org/2000/svg\" height=\"24px\"viewBox=\"0 0 24 24\"\n",
              "       width=\"24px\">\n",
              "    <path d=\"M0 0h24v24H0V0z\" fill=\"none\"/>\n",
              "    <path d=\"M18.56 5.44l.94 2.06.94-2.06 2.06-.94-2.06-.94-.94-2.06-.94 2.06-2.06.94zm-11 1L8.5 8.5l.94-2.06 2.06-.94-2.06-.94L8.5 2.5l-.94 2.06-2.06.94zm10 10l.94 2.06.94-2.06 2.06-.94-2.06-.94-.94-2.06-.94 2.06-2.06.94z\"/><path d=\"M17.41 7.96l-1.37-1.37c-.4-.4-.92-.59-1.43-.59-.52 0-1.04.2-1.43.59L10.3 9.45l-7.72 7.72c-.78.78-.78 2.05 0 2.83L4 21.41c.39.39.9.59 1.41.59.51 0 1.02-.2 1.41-.59l7.78-7.78 2.81-2.81c.8-.78.8-2.07 0-2.86zM5.41 20L4 18.59l7.72-7.72 1.47 1.35L5.41 20z\"/>\n",
              "  </svg>\n",
              "      </button>\n",
              "      \n",
              "  <style>\n",
              "    .colab-df-container {\n",
              "      display:flex;\n",
              "      flex-wrap:wrap;\n",
              "      gap: 12px;\n",
              "    }\n",
              "\n",
              "    .colab-df-convert {\n",
              "      background-color: #E8F0FE;\n",
              "      border: none;\n",
              "      border-radius: 50%;\n",
              "      cursor: pointer;\n",
              "      display: none;\n",
              "      fill: #1967D2;\n",
              "      height: 32px;\n",
              "      padding: 0 0 0 0;\n",
              "      width: 32px;\n",
              "    }\n",
              "\n",
              "    .colab-df-convert:hover {\n",
              "      background-color: #E2EBFA;\n",
              "      box-shadow: 0px 1px 2px rgba(60, 64, 67, 0.3), 0px 1px 3px 1px rgba(60, 64, 67, 0.15);\n",
              "      fill: #174EA6;\n",
              "    }\n",
              "\n",
              "    [theme=dark] .colab-df-convert {\n",
              "      background-color: #3B4455;\n",
              "      fill: #D2E3FC;\n",
              "    }\n",
              "\n",
              "    [theme=dark] .colab-df-convert:hover {\n",
              "      background-color: #434B5C;\n",
              "      box-shadow: 0px 1px 3px 1px rgba(0, 0, 0, 0.15);\n",
              "      filter: drop-shadow(0px 1px 2px rgba(0, 0, 0, 0.3));\n",
              "      fill: #FFFFFF;\n",
              "    }\n",
              "  </style>\n",
              "\n",
              "      <script>\n",
              "        const buttonEl =\n",
              "          document.querySelector('#df-af06a37c-8d61-4e2a-97b3-c44fda00e00f button.colab-df-convert');\n",
              "        buttonEl.style.display =\n",
              "          google.colab.kernel.accessAllowed ? 'block' : 'none';\n",
              "\n",
              "        async function convertToInteractive(key) {\n",
              "          const element = document.querySelector('#df-af06a37c-8d61-4e2a-97b3-c44fda00e00f');\n",
              "          const dataTable =\n",
              "            await google.colab.kernel.invokeFunction('convertToInteractive',\n",
              "                                                     [key], {});\n",
              "          if (!dataTable) return;\n",
              "\n",
              "          const docLinkHtml = 'Like what you see? Visit the ' +\n",
              "            '<a target=\"_blank\" href=https://colab.research.google.com/notebooks/data_table.ipynb>data table notebook</a>'\n",
              "            + ' to learn more about interactive tables.';\n",
              "          element.innerHTML = '';\n",
              "          dataTable['output_type'] = 'display_data';\n",
              "          await google.colab.output.renderOutput(dataTable, element);\n",
              "          const docLink = document.createElement('div');\n",
              "          docLink.innerHTML = docLinkHtml;\n",
              "          element.appendChild(docLink);\n",
              "        }\n",
              "      </script>\n",
              "    </div>\n",
              "  </div>\n",
              "  "
            ]
          },
          "metadata": {},
          "execution_count": 15
        }
      ]
    },
    {
      "cell_type": "code",
      "source": [],
      "metadata": {
        "id": "CK_C5buowj59"
      },
      "execution_count": null,
      "outputs": []
    }
  ]
}